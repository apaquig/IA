{
 "cells": [
  {
   "cell_type": "markdown",
   "metadata": {},
   "source": [
    "<img src=\"logo-catedra.png\" width=\"400\"> <img src=\"Logo-GIIATa-small.png\" width=\"100\"> \n",
    "<div style=\"text-align: right\"> _Por: V. Robles B._ </div>\n",
    "\n",
    "# Redes Neuronales con Scikit-Learn: una introducción - Parte 2\n",
    "\n",
    "En este cuaderno se presenta una breve introducción de los principales aspectos para crear, entrenar y validar redes neuronales artificiales en Python con la librería [scikit-learn](http://scikit-learn.org/stable/index.html). A lo largo del cuaderno se hará especial énfasis en el **Perceptrón multicapa** como herramienta para realizar tareas de clasificación.\n",
    "\n",
    "\n",
    "## Ejemplo básico 2: Corpus Iris\n",
    "El corpus Iris es uno de los ejemplos más utilizados para aprender a diseñar redes neuronales. Este corpus tiene las siguientes características:\n",
    "\n",
    "* Posee 150 muestras de 3 tipos de flores (50 c/u): Iris-Setosa, Iris-Virgínica e Iris-Versicolor.\n",
    "* Cada muestra contiene 4 variables (decimales) que representan estas características de cada flor:\n",
    "    * Longitud del pétalo\n",
    "    * Longitud del sépalo\n",
    "    * Grosor del pétalo\n",
    "    * Grosor del sépalo\n",
    "\n",
    "El objetivo consiste en diseñar y entrenar una red neuronal que permita clasificar las muestras en base a las características de dichas flores.\n",
    "\n",
    "### Lectura de los datos\n",
    "Como primer paso procederemos a cargar los datos empleando para ello la librería [Pandas](https://pandas.pydata.org/). Para ello, emplearemos el método **read_csv** y dado que el fichero no tiene nombres en cada columna (los datos inician en la primera fila), especificamos los nombres que deseamos que sean cargados al leer el fichero.\n",
    "\n",
    "Es importante observar, que el método **read_csv** devuelve un objeto [dataframe](https://pandas.pydata.org/pandas-docs/stable/generated/pandas.DataFrame.html)."
   ]
  },
  {
   "cell_type": "code",
   "execution_count": 1,
   "metadata": {},
   "outputs": [
    {
     "data": {
      "text/html": [
       "<div>\n",
       "<style scoped>\n",
       "    .dataframe tbody tr th:only-of-type {\n",
       "        vertical-align: middle;\n",
       "    }\n",
       "\n",
       "    .dataframe tbody tr th {\n",
       "        vertical-align: top;\n",
       "    }\n",
       "\n",
       "    .dataframe thead th {\n",
       "        text-align: right;\n",
       "    }\n",
       "</style>\n",
       "<table border=\"1\" class=\"dataframe\">\n",
       "  <thead>\n",
       "    <tr style=\"text-align: right;\">\n",
       "      <th></th>\n",
       "      <th>longitud_sepalo</th>\n",
       "      <th>grosor_sepalo</th>\n",
       "      <th>longitud_petalo</th>\n",
       "      <th>grosor_petalo</th>\n",
       "      <th>flor</th>\n",
       "    </tr>\n",
       "  </thead>\n",
       "  <tbody>\n",
       "    <tr>\n",
       "      <th>0</th>\n",
       "      <td>5.1</td>\n",
       "      <td>3.5</td>\n",
       "      <td>1.4</td>\n",
       "      <td>0.2</td>\n",
       "      <td>Iris-setosa</td>\n",
       "    </tr>\n",
       "    <tr>\n",
       "      <th>1</th>\n",
       "      <td>4.9</td>\n",
       "      <td>3.0</td>\n",
       "      <td>1.4</td>\n",
       "      <td>0.2</td>\n",
       "      <td>Iris-setosa</td>\n",
       "    </tr>\n",
       "    <tr>\n",
       "      <th>2</th>\n",
       "      <td>4.7</td>\n",
       "      <td>3.2</td>\n",
       "      <td>1.3</td>\n",
       "      <td>0.2</td>\n",
       "      <td>Iris-setosa</td>\n",
       "    </tr>\n",
       "    <tr>\n",
       "      <th>3</th>\n",
       "      <td>4.6</td>\n",
       "      <td>3.1</td>\n",
       "      <td>1.5</td>\n",
       "      <td>0.2</td>\n",
       "      <td>Iris-setosa</td>\n",
       "    </tr>\n",
       "    <tr>\n",
       "      <th>4</th>\n",
       "      <td>5.0</td>\n",
       "      <td>3.6</td>\n",
       "      <td>1.4</td>\n",
       "      <td>0.2</td>\n",
       "      <td>Iris-setosa</td>\n",
       "    </tr>\n",
       "  </tbody>\n",
       "</table>\n",
       "</div>"
      ],
      "text/plain": [
       "   longitud_sepalo  grosor_sepalo  longitud_petalo  grosor_petalo         flor\n",
       "0              5.1            3.5              1.4            0.2  Iris-setosa\n",
       "1              4.9            3.0              1.4            0.2  Iris-setosa\n",
       "2              4.7            3.2              1.3            0.2  Iris-setosa\n",
       "3              4.6            3.1              1.5            0.2  Iris-setosa\n",
       "4              5.0            3.6              1.4            0.2  Iris-setosa"
      ]
     },
     "execution_count": 1,
     "metadata": {},
     "output_type": "execute_result"
    }
   ],
   "source": [
    "import pandas as pd\n",
    "import numpy as np\n",
    "\n",
    "%matplotlib inline\n",
    "\n",
    "datos = pd.read_csv('corpus/iris/iris.data',names=['longitud_sepalo','grosor_sepalo',\\\n",
    "                                                   'longitud_petalo','grosor_petalo','flor'])\n",
    "\n",
    "datos.head()\n"
   ]
  },
  {
   "cell_type": "markdown",
   "metadata": {},
   "source": [
    "También podemos analizar el corpus empleando la función **describe** que provee **Pandas**. Los valores que podemos obtener de cada variable, son los siguientes:\n",
    "* Conteo (*count*)\n",
    "* Media (*mean*)\n",
    "* Desviación estándar (*std*)\n",
    "* Mínimo (*min*)\n",
    "* Percentiles, que son los valores que están entre *25%, 50%, 75%*.\n",
    "* Máximo (*max*)"
   ]
  },
  {
   "cell_type": "code",
   "execution_count": 3,
   "metadata": {},
   "outputs": [
    {
     "data": {
      "text/html": [
       "<div>\n",
       "<style scoped>\n",
       "    .dataframe tbody tr th:only-of-type {\n",
       "        vertical-align: middle;\n",
       "    }\n",
       "\n",
       "    .dataframe tbody tr th {\n",
       "        vertical-align: top;\n",
       "    }\n",
       "\n",
       "    .dataframe thead th {\n",
       "        text-align: right;\n",
       "    }\n",
       "</style>\n",
       "<table border=\"1\" class=\"dataframe\">\n",
       "  <thead>\n",
       "    <tr style=\"text-align: right;\">\n",
       "      <th></th>\n",
       "      <th>count</th>\n",
       "      <th>mean</th>\n",
       "      <th>std</th>\n",
       "      <th>min</th>\n",
       "      <th>25%</th>\n",
       "      <th>50%</th>\n",
       "      <th>75%</th>\n",
       "      <th>max</th>\n",
       "    </tr>\n",
       "  </thead>\n",
       "  <tbody>\n",
       "    <tr>\n",
       "      <th>longitud_sepalo</th>\n",
       "      <td>150.0</td>\n",
       "      <td>5.843333</td>\n",
       "      <td>0.828066</td>\n",
       "      <td>4.3</td>\n",
       "      <td>5.1</td>\n",
       "      <td>5.80</td>\n",
       "      <td>6.4</td>\n",
       "      <td>7.9</td>\n",
       "    </tr>\n",
       "    <tr>\n",
       "      <th>grosor_sepalo</th>\n",
       "      <td>150.0</td>\n",
       "      <td>3.054000</td>\n",
       "      <td>0.433594</td>\n",
       "      <td>2.0</td>\n",
       "      <td>2.8</td>\n",
       "      <td>3.00</td>\n",
       "      <td>3.3</td>\n",
       "      <td>4.4</td>\n",
       "    </tr>\n",
       "    <tr>\n",
       "      <th>longitud_petalo</th>\n",
       "      <td>150.0</td>\n",
       "      <td>3.758667</td>\n",
       "      <td>1.764420</td>\n",
       "      <td>1.0</td>\n",
       "      <td>1.6</td>\n",
       "      <td>4.35</td>\n",
       "      <td>5.1</td>\n",
       "      <td>6.9</td>\n",
       "    </tr>\n",
       "    <tr>\n",
       "      <th>grosor_petalo</th>\n",
       "      <td>150.0</td>\n",
       "      <td>1.198667</td>\n",
       "      <td>0.763161</td>\n",
       "      <td>0.1</td>\n",
       "      <td>0.3</td>\n",
       "      <td>1.30</td>\n",
       "      <td>1.8</td>\n",
       "      <td>2.5</td>\n",
       "    </tr>\n",
       "  </tbody>\n",
       "</table>\n",
       "</div>"
      ],
      "text/plain": [
       "                 count      mean       std  min  25%   50%  75%  max\n",
       "longitud_sepalo  150.0  5.843333  0.828066  4.3  5.1  5.80  6.4  7.9\n",
       "grosor_sepalo    150.0  3.054000  0.433594  2.0  2.8  3.00  3.3  4.4\n",
       "longitud_petalo  150.0  3.758667  1.764420  1.0  1.6  4.35  5.1  6.9\n",
       "grosor_petalo    150.0  1.198667  0.763161  0.1  0.3  1.30  1.8  2.5"
      ]
     },
     "execution_count": 3,
     "metadata": {},
     "output_type": "execute_result"
    }
   ],
   "source": [
    "datos.describe().transpose()"
   ]
  },
  {
   "cell_type": "markdown",
   "metadata": {},
   "source": [
    "Como podemos apreciar, la última columna contiene cadenas de texto que describen el tipo de flor. Para ello, podemos emplear la función [map](https://pandas.pydata.org/pandas-docs/stable/generated/pandas.Series.map.html) que provee **Pandas** y reemplazar las cadenas por valores numéricos que sí puedan ser entendidos por la red neuronal."
   ]
  },
  {
   "cell_type": "code",
   "execution_count": 2,
   "metadata": {},
   "outputs": [
    {
     "data": {
      "text/html": [
       "<div>\n",
       "<style scoped>\n",
       "    .dataframe tbody tr th:only-of-type {\n",
       "        vertical-align: middle;\n",
       "    }\n",
       "\n",
       "    .dataframe tbody tr th {\n",
       "        vertical-align: top;\n",
       "    }\n",
       "\n",
       "    .dataframe thead th {\n",
       "        text-align: right;\n",
       "    }\n",
       "</style>\n",
       "<table border=\"1\" class=\"dataframe\">\n",
       "  <thead>\n",
       "    <tr style=\"text-align: right;\">\n",
       "      <th></th>\n",
       "      <th>longitud_sepalo</th>\n",
       "      <th>grosor_sepalo</th>\n",
       "      <th>longitud_petalo</th>\n",
       "      <th>grosor_petalo</th>\n",
       "      <th>flor</th>\n",
       "    </tr>\n",
       "  </thead>\n",
       "  <tbody>\n",
       "    <tr>\n",
       "      <th>0</th>\n",
       "      <td>5.1</td>\n",
       "      <td>3.5</td>\n",
       "      <td>1.4</td>\n",
       "      <td>0.2</td>\n",
       "      <td>0</td>\n",
       "    </tr>\n",
       "    <tr>\n",
       "      <th>1</th>\n",
       "      <td>4.9</td>\n",
       "      <td>3.0</td>\n",
       "      <td>1.4</td>\n",
       "      <td>0.2</td>\n",
       "      <td>0</td>\n",
       "    </tr>\n",
       "    <tr>\n",
       "      <th>2</th>\n",
       "      <td>4.7</td>\n",
       "      <td>3.2</td>\n",
       "      <td>1.3</td>\n",
       "      <td>0.2</td>\n",
       "      <td>0</td>\n",
       "    </tr>\n",
       "    <tr>\n",
       "      <th>3</th>\n",
       "      <td>4.6</td>\n",
       "      <td>3.1</td>\n",
       "      <td>1.5</td>\n",
       "      <td>0.2</td>\n",
       "      <td>0</td>\n",
       "    </tr>\n",
       "    <tr>\n",
       "      <th>4</th>\n",
       "      <td>5.0</td>\n",
       "      <td>3.6</td>\n",
       "      <td>1.4</td>\n",
       "      <td>0.2</td>\n",
       "      <td>0</td>\n",
       "    </tr>\n",
       "  </tbody>\n",
       "</table>\n",
       "</div>"
      ],
      "text/plain": [
       "   longitud_sepalo  grosor_sepalo  longitud_petalo  grosor_petalo  flor\n",
       "0              5.1            3.5              1.4            0.2     0\n",
       "1              4.9            3.0              1.4            0.2     0\n",
       "2              4.7            3.2              1.3            0.2     0\n",
       "3              4.6            3.1              1.5            0.2     0\n",
       "4              5.0            3.6              1.4            0.2     0"
      ]
     },
     "execution_count": 2,
     "metadata": {},
     "output_type": "execute_result"
    }
   ],
   "source": [
    "datos['flor']=datos['flor'].map({'Iris-setosa':0,'Iris-versicolor':1,'Iris-virginica':2})\n",
    "datos.head()"
   ]
  },
  {
   "cell_type": "markdown",
   "metadata": {},
   "source": [
    "### Diseño de la Red Neuronal\n",
    "Como siguiente punto, diseñaremos una red neuronal (clasificador perceptrón multicapa) para poder aprender a distinguir entre los diferentes tipos de flores.\n",
    "\n",
    "La red neuronal artificial tendrá las sigiuentes características:\n",
    "\n",
    "* Entradas: 4\n",
    "* Número de capas: 2\n",
    "* Neuronas en la capa oculta: 7\n",
    "* Neuronas en la capa de salida: 1"
   ]
  },
  {
   "cell_type": "code",
   "execution_count": 3,
   "metadata": {},
   "outputs": [
    {
     "name": "stdout",
     "output_type": "stream",
     "text": [
      "Press `c` to save figure to \"_feed_forward.png\", `Ctrl+d` to break >>\n",
      "> /home/vlarobbyk/.conda/envs/ia2/lib/python3.7/site-packages/viznet/context.py(61)__exit__()\n",
      "-> plt.savefig(self.filename, dpi=300, transparent=True)\n",
      "(Pdb) c\n"
     ]
    },
    {
     "data": {
      "image/png": "[encoded data removed]",
      "text/plain": [
       "<Figure size 432x432 with 1 Axes>"
      ]
     },
     "metadata": {
      "needs_background": "light"
     },
     "output_type": "display_data"
    }
   ],
   "source": [
    "from viznet import connecta2a, node_sequence, NodeBrush, EdgeBrush, DynamicShow\n",
    "\n",
    "# Creamos variables con los parametros que tendra la red\n",
    "entradas = 4\n",
    "neuronas_capa_oculta = 7\n",
    "neuronas_capa_salida = 1\n",
    "\n",
    "\n",
    "def dibujar_red_neuronal(ax, num_node_list):\n",
    "\n",
    "    num_hidden_layer = len(num_node_list) - 2\n",
    "    token_list = ['\\sigma^z'] + \\\n",
    "        ['y^{(%s)}' % (i + 1) for i in range(num_hidden_layer)] + ['\\psi']\n",
    "    kind_list = ['nn.input'] + ['nn.hidden'] * num_hidden_layer + ['nn.output']\n",
    "    radius_list = [0.3] + [0.2] * num_hidden_layer + [0.3]\n",
    "    y_list = 1.5 * np.arange(len(num_node_list))\n",
    "\n",
    "    seq_list = []\n",
    "    for n, kind, radius, y in zip(num_node_list, kind_list, radius_list, y_list):\n",
    "        b = NodeBrush(kind, ax)\n",
    "        seq_list.append(node_sequence(b, n, center=(0, y)))\n",
    "\n",
    "    eb = EdgeBrush('-->', ax)\n",
    "    for st, et in zip(seq_list[:-1], seq_list[1:]):\n",
    "        connecta2a(st, et, eb)\n",
    "\n",
    "\n",
    "def real_bp():\n",
    "    with DynamicShow((6, 6), '_feed_forward.png') as d:\n",
    "        dibujar_red_neuronal(d.ax, num_node_list=[entradas, neuronas_capa_oculta, neuronas_capa_salida])\n",
    "\n",
    "\n",
    "real_bp()"
   ]
  },
  {
   "cell_type": "markdown",
   "metadata": {},
   "source": [
    "### Preprocesamiento de los datos y generación de los corpus de entrenamiento y  pruebas\n",
    "\n",
    "Como paso previo a entrenar la red neuronal, es fundamental preprocesar los datos (escalar, cambiar formatos, etc.), ya que en caso contrario no se obtendrán resultados óptimos en el proceso de clasificación.\n",
    "\n"
   ]
  },
  {
   "cell_type": "code",
   "execution_count": 7,
   "metadata": {},
   "outputs": [
    {
     "name": "stdout",
     "output_type": "stream",
     "text": [
      "StandardScaler(copy=True, with_mean=True, with_std=True)\n"
     ]
    },
    {
     "name": "stderr",
     "output_type": "stream",
     "text": [
      "/home/vlarobbyk/.conda/envs/ia2/lib/python3.7/site-packages/sklearn/model_selection/_split.py:2179: FutureWarning: From version 0.21, test_size will always complement train_size unless both are specified.\n",
      "  FutureWarning)\n"
     ]
    },
    {
     "data": {
      "text/plain": [
       "array([[ 2.14194987,  1.67393943,  1.63709442,  1.31005616],\n",
       "       [ 0.62547602,  0.34908787,  0.85828251,  1.44106177],\n",
       "       [-1.47425699,  1.23232224, -1.53378264, -1.31005616],\n",
       "       [-0.77434598,  0.79070506, -1.31126495, -1.31005616],\n",
       "       [-1.70756066, -0.09252931, -1.36689437, -1.31005616],\n",
       "       [-1.12430149, -1.41738087, -0.25430593, -0.26201123]])"
      ]
     },
     "execution_count": 7,
     "metadata": {},
     "output_type": "execute_result"
    }
   ],
   "source": [
    "# Importamos la función para separar test y train\n",
    "from sklearn.model_selection import train_test_split\n",
    "\n",
    "# Importamos la función para escalar los valores\n",
    "from sklearn.preprocessing import StandardScaler\n",
    "\n",
    "\n",
    "# Separamos en una variable los datos de entrada, para ello generamos una copia del dataframe\n",
    "# eliminando la última columna del corpus (la que tiene los tipos de flores)\n",
    "X=datos.drop('flor',axis=1)\n",
    "\n",
    "# Procedemos de la misma forma, pero en este caso para generar un arreglo que tenga las salidas\n",
    "# deseadas\n",
    "d=datos['flor']\n",
    "\n",
    "# Mostramos en pantalla los primeros datos con la función 'head'\n",
    "X.head()\n",
    "d.head()\n",
    "\n",
    "# Generamos los corpus para entrenamiento y pruebas de modo que se tome el mismo número de muestras de cada clase\n",
    "X_train, X_test, d_train, d_test = train_test_split(X,d,train_size=0.70,random_state=0,stratify=d)\n",
    "\n",
    "\n",
    "# Generamos un objeto para escalar los valores\n",
    "scaler=StandardScaler()\n",
    "\n",
    "print(scaler)\n",
    "\n",
    "# Ajuste solo en los datos de entrenamiento\n",
    "scaler.fit(X_train)\n",
    "\n",
    "# Escalamos el corpus de entrenamiento\n",
    "X_train=scaler.transform(X_train)\n",
    "X_test=scaler.transform(X_test)\n",
    "\n",
    "# Visualizamos las 7 primeras filas de datos\n",
    "X_train[1:7,:]\n"
   ]
  },
  {
   "cell_type": "markdown",
   "metadata": {},
   "source": [
    "### Creación, entrenamiento y validación de la Red Neuronal\n",
    "A continuación emplearemos **sckikit learn** para crear, entrenar y probar la red neuronal [MLPClassifier](http://scikit-learn.org/stable/modules/generated/sklearn.neural_network.MLPClassifier.html) que se especificó con anterioridad. Los parámetros que se usarán son los siguientes:\n",
    "\n",
    "* Algoritmo para la reducción del error en el entrenamiento: **lbfgs** optimizador basado en métodos cuasi-Newtonianos. Mayor información en este [link](https://en.wikipedia.org/wiki/Limited-memory_BFGS).\n",
    "* Función de activación de las neuronas: **logística** (_logistic_)\n",
    "* Máximo número de iteraciones (*max_iter*): 10000\n"
   ]
  },
  {
   "cell_type": "code",
   "execution_count": 8,
   "metadata": {},
   "outputs": [
    {
     "name": "stdout",
     "output_type": "stream",
     "text": [
      "MLPClassifier(activation='logistic', alpha=0.0001, batch_size='auto',\n",
      "       beta_1=0.9, beta_2=0.999, early_stopping=False, epsilon=1e-08,\n",
      "       hidden_layer_sizes=(7, 1), learning_rate='constant',\n",
      "       learning_rate_init=0.001, max_iter=10000, momentum=0.9,\n",
      "       n_iter_no_change=10, nesterovs_momentum=True, power_t=0.5,\n",
      "       random_state=None, shuffle=True, solver='lbfgs', tol=1e-15,\n",
      "       validation_fraction=0.1, verbose=True, warm_start=False)\n"
     ]
    },
    {
     "data": {
      "text/plain": [
       "MLPClassifier(activation='logistic', alpha=0.0001, batch_size='auto',\n",
       "       beta_1=0.9, beta_2=0.999, early_stopping=False, epsilon=1e-08,\n",
       "       hidden_layer_sizes=(7, 1), learning_rate='constant',\n",
       "       learning_rate_init=0.001, max_iter=10000, momentum=0.9,\n",
       "       n_iter_no_change=10, nesterovs_momentum=True, power_t=0.5,\n",
       "       random_state=None, shuffle=True, solver='lbfgs', tol=1e-15,\n",
       "       validation_fraction=0.1, verbose=True, warm_start=False)"
      ]
     },
     "execution_count": 8,
     "metadata": {},
     "output_type": "execute_result"
    }
   ],
   "source": [
    "# Importamos el Perceptron Multicapa para Clasificacion\n",
    "from sklearn.neural_network import MLPClassifier\n",
    "\n",
    "# Creamos la red neuronal\n",
    "mlp=MLPClassifier(solver = 'lbfgs', activation='logistic', verbose=True, alpha=1e-4, tol=1e-15, max_iter=10000, \\\n",
    "                  hidden_layer_sizes=(neuronas_capa_oculta, neuronas_capa_salida))\n",
    "\n",
    "print(mlp)\n",
    "# Realizamos el proceso de entrenamiento\n",
    "mlp.fit(X_train,d_train)\n",
    "\n"
   ]
  },
  {
   "cell_type": "markdown",
   "metadata": {},
   "source": [
    "### Predicción y evaluación de la red\n",
    "\n",
    "El último paso es evaluar el funcionamiento de la red. Para ello, determinaremos cómo se comporta en tareas de predicción con la parte de pruebas (**X_test, d_test**):\n"
   ]
  },
  {
   "cell_type": "code",
   "execution_count": 9,
   "metadata": {},
   "outputs": [
    {
     "name": "stdout",
     "output_type": "stream",
     "text": [
      "2    15\n",
      "1    15\n",
      "0    15\n",
      "Name: flor, dtype: int64\n",
      "Matriz de Confusion\n",
      "\n",
      "[[15  0  0]\n",
      " [ 0 14  1]\n",
      " [ 0  0 15]]\n",
      "\n",
      "\n",
      "              precision    recall  f1-score   support\n",
      "\n",
      "           0       1.00      1.00      1.00        15\n",
      "           1       1.00      0.93      0.97        15\n",
      "           2       0.94      1.00      0.97        15\n",
      "\n",
      "   micro avg       0.98      0.98      0.98        45\n",
      "   macro avg       0.98      0.98      0.98        45\n",
      "weighted avg       0.98      0.98      0.98        45\n",
      "\n"
     ]
    }
   ],
   "source": [
    "from sklearn.metrics import classification_report, confusion_matrix\n",
    "\n",
    "print(d_test.value_counts())\n",
    "\n",
    "prediccion = mlp.predict(X_test)\n",
    "print('Matriz de Confusion\\n')\n",
    "print(confusion_matrix(d_test, prediccion))\n",
    "print('\\n')\n",
    "\n",
    "print(classification_report(d_test, prediccion))"
   ]
  },
  {
   "cell_type": "markdown",
   "metadata": {},
   "source": [
    "### Práctica ANN-3:\n",
    "\n",
    "Modifique el código anterior, a fin de incorporar las siguientes modificaciones:\n",
    "\n",
    "* Incorporar [Hot Encoding](https://www.quora.com/What-is-one-hot-encoding-and-when-is-it-used-in-data-science) y contar con 3 salidas en lugar de 1. Compare los resultados.\n",
    "* Generar una gráfica donde se puedan analizar las 4 variables y cómo se distribuyen la mismas (analizadas de dos en dos). Para ello, se recomienda emplear el siguente ejemplo:\n",
    "\n",
    "<img src=\"imagenes/ejemplo-matrix-scatter.jpg\" width=\"600\"> \n",
    "\n",
    "* Pruebe la misma red neuronal pero sin escalar los datos y compare los resultados."
   ]
  },
  {
   "cell_type": "code",
   "execution_count": null,
   "metadata": {
    "collapsed": true
   },
   "outputs": [],
   "source": [
    "# TO-DO:\n",
    "# Emplear el código anterior a fin resolver los aspectos planteados en la práctica ANN-3\n",
    "\n"
   ]
  },
  {
   "cell_type": "markdown",
   "metadata": {},
   "source": [
    "### Práctica ANN-4:\n",
    "\n",
    "Reproducir el mismo experimento para el corpus del censo realizado en el año 1996 (**censo**), considerando las siguientes premisas:\n",
    "\n",
    "1. Realizar todas las fases de diseño, entrenamiento y validación de la red neuronal\n",
    "2. Probar la red con el método de validación visto, y realizar el contraste de forma manual\n",
    "3. Realizar la gráfica de los datos"
   ]
  },
  {
   "cell_type": "code",
   "execution_count": null,
   "metadata": {
    "collapsed": true
   },
   "outputs": [],
   "source": [
    "# TO-DO:\n",
    "# Desarrollar el mismo proceso de experimentación para el caso del corpus de vinos (wines)\n",
    "\n"
   ]
  },
  {
   "cell_type": "markdown",
   "metadata": {},
   "source": [
    "## Referencias\n",
    "[1] Pedregosa, F., Varoquaux, G., Gramfort, A., Michel, V., Thirion, B., Grisel, O., ... & Vanderplas, J. (2011). Scikit-learn: Machine learning in Python. Journal of machine learning research, 12(Oct), 2825-2830.\n",
    "\n",
    "[2] Portilla, J. (2017). A Beginner’s Guide to Neural Networks in Python and SciKit Learn 0.18. Retrieved from https://www.springboard.com/blog/beginners-guide-neural-network-in-python-scikit-learn-0-18/.\n",
    "\n",
    "[3] The Asimov Institute. (2018). THE NEURAL NETWORK ZOO. Retrived from: http://www.asimovinstitute.org/neural-network-zoo/"
   ]
  }
 ],
 "metadata": {
  "kernelspec": {
   "display_name": "arn-ia2",
   "language": "python",
   "name": "ia2"
  },
  "language_info": {
   "codemirror_mode": {
    "name": "ipython",
    "version": 3
   },
   "file_extension": ".py",
   "mimetype": "text/x-python",
   "name": "python",
   "nbconvert_exporter": "python",
   "pygments_lexer": "ipython3",
   "version": "3.7.3"
  }
 },
 "nbformat": 4,
 "nbformat_minor": 2
}
